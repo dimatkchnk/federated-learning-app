{
 "cells": [
  {
   "cell_type": "code",
   "execution_count": 4,
   "id": "d3ce97ed",
   "metadata": {},
   "outputs": [],
   "source": [
    "import numpy as np\n",
    "import pandas as pd"
   ]
  },
  {
   "cell_type": "code",
   "execution_count": 5,
   "id": "16e7f940",
   "metadata": {},
   "outputs": [],
   "source": [
    "path = \"/home/dimatkchnk/praca_dyplomowa/data-csv/series-data1678139029002.csv\"\n",
    "path2 = \"/home/dimatkchnk/praca_dyplomowa/data-csv/series-data1678139733904.csv\""
   ]
  },
  {
   "cell_type": "code",
   "execution_count": 6,
   "id": "1f2955ec",
   "metadata": {},
   "outputs": [],
   "source": [
    "df = pd.read_csv(path2)"
   ]
  },
  {
   "cell_type": "code",
   "execution_count": 9,
   "id": "faee38b2",
   "metadata": {},
   "outputs": [
    {
     "data": {
      "text/html": [
       "<div>\n",
       "<style scoped>\n",
       "    .dataframe tbody tr th:only-of-type {\n",
       "        vertical-align: middle;\n",
       "    }\n",
       "\n",
       "    .dataframe tbody tr th {\n",
       "        vertical-align: top;\n",
       "    }\n",
       "\n",
       "    .dataframe thead th {\n",
       "        text-align: right;\n",
       "    }\n",
       "</style>\n",
       "<table border=\"1\" class=\"dataframe\">\n",
       "  <thead>\n",
       "    <tr style=\"text-align: right;\">\n",
       "      <th></th>\n",
       "      <th>Subject ID</th>\n",
       "      <th>Study UID</th>\n",
       "      <th>Study Description</th>\n",
       "      <th>Study Date</th>\n",
       "      <th>Series ID</th>\n",
       "      <th>Series Description</th>\n",
       "      <th>Number of images</th>\n",
       "      <th>File Size (Bytes)</th>\n",
       "      <th>Collection Name</th>\n",
       "      <th>Modality</th>\n",
       "      <th>Manufacturer</th>\n",
       "      <th>3rd Party Analysis</th>\n",
       "      <th>Data Description URI</th>\n",
       "      <th>Series Number</th>\n",
       "      <th>License Name</th>\n",
       "      <th>License URL</th>\n",
       "    </tr>\n",
       "  </thead>\n",
       "  <tbody>\n",
       "    <tr>\n",
       "      <th>0</th>\n",
       "      <td>Calc-Test_P_00038_LEFT_CC</td>\n",
       "      <td>1.3.6.1.4.1.9590.100.1.2.859354343102033567126...</td>\n",
       "      <td>NaN</td>\n",
       "      <td>2017-08-29</td>\n",
       "      <td>1.3.6.1.4.1.9590.100.1.2.374115997511889073021...</td>\n",
       "      <td>full mammogram images</td>\n",
       "      <td>1</td>\n",
       "      <td>27844690</td>\n",
       "      <td>CBIS-DDSM</td>\n",
       "      <td>MG</td>\n",
       "      <td>NaN</td>\n",
       "      <td>NaN</td>\n",
       "      <td>https://doi.org/10.7937/K9/TCIA.2016.7O02S9CY</td>\n",
       "      <td>1</td>\n",
       "      <td>Creative Commons Attribution 3.0 Unported License</td>\n",
       "      <td>http://creativecommons.org/licenses/by/3.0/</td>\n",
       "    </tr>\n",
       "  </tbody>\n",
       "</table>\n",
       "</div>"
      ],
      "text/plain": [
       "                  Subject ID  \\\n",
       "0  Calc-Test_P_00038_LEFT_CC   \n",
       "\n",
       "                                           Study UID  Study Description  \\\n",
       "0  1.3.6.1.4.1.9590.100.1.2.859354343102033567126...                NaN   \n",
       "\n",
       "   Study Date                                          Series ID  \\\n",
       "0  2017-08-29  1.3.6.1.4.1.9590.100.1.2.374115997511889073021...   \n",
       "\n",
       "      Series Description  Number of images  File Size (Bytes) Collection Name  \\\n",
       "0  full mammogram images                 1           27844690       CBIS-DDSM   \n",
       "\n",
       "  Modality  Manufacturer  3rd Party Analysis  \\\n",
       "0       MG           NaN                 NaN   \n",
       "\n",
       "                            Data Description URI  Series Number  \\\n",
       "0  https://doi.org/10.7937/K9/TCIA.2016.7O02S9CY              1   \n",
       "\n",
       "                                        License Name  \\\n",
       "0  Creative Commons Attribution 3.0 Unported License   \n",
       "\n",
       "                                   License URL  \n",
       "0  http://creativecommons.org/licenses/by/3.0/  "
      ]
     },
     "execution_count": 9,
     "metadata": {},
     "output_type": "execute_result"
    }
   ],
   "source": [
    "df"
   ]
  },
  {
   "cell_type": "code",
   "execution_count": 8,
   "id": "cc1ed8a3",
   "metadata": {},
   "outputs": [
    {
     "name": "stdout",
     "output_type": "stream",
     "text": [
      "<class 'pandas.core.frame.DataFrame'>\n",
      "RangeIndex: 1 entries, 0 to 0\n",
      "Data columns (total 16 columns):\n",
      " #   Column                Non-Null Count  Dtype  \n",
      "---  ------                --------------  -----  \n",
      " 0   Subject ID            1 non-null      object \n",
      " 1   Study UID             1 non-null      object \n",
      " 2   Study Description     0 non-null      float64\n",
      " 3   Study Date            1 non-null      object \n",
      " 4   Series ID             1 non-null      object \n",
      " 5   Series Description    1 non-null      object \n",
      " 6   Number of images      1 non-null      int64  \n",
      " 7   File Size (Bytes)     1 non-null      int64  \n",
      " 8   Collection Name       1 non-null      object \n",
      " 9   Modality              1 non-null      object \n",
      " 10  Manufacturer          0 non-null      float64\n",
      " 11  3rd Party Analysis    0 non-null      float64\n",
      " 12  Data Description URI  1 non-null      object \n",
      " 13  Series Number         1 non-null      int64  \n",
      " 14  License Name          1 non-null      object \n",
      " 15  License URL           1 non-null      object \n",
      "dtypes: float64(3), int64(3), object(10)\n",
      "memory usage: 260.0+ bytes\n"
     ]
    }
   ],
   "source": [
    "df.info()"
   ]
  }
 ],
 "metadata": {
  "kernelspec": {
   "display_name": "Python 3 (ipykernel)",
   "language": "python",
   "name": "python3"
  },
  "language_info": {
   "codemirror_mode": {
    "name": "ipython",
    "version": 3
   },
   "file_extension": ".py",
   "mimetype": "text/x-python",
   "name": "python",
   "nbconvert_exporter": "python",
   "pygments_lexer": "ipython3",
   "version": "3.11.2"
  }
 },
 "nbformat": 4,
 "nbformat_minor": 5
}
