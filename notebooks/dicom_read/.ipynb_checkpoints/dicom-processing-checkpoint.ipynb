{
 "cells": [
  {
   "cell_type": "code",
   "execution_count": 2,
   "id": "11505e44",
   "metadata": {},
   "outputs": [],
   "source": [
    "import matplotlib.pyplot as plt\n",
    "import pydicom\n",
    "import numpy as np\n",
    "import cv2\n",
    "from pydicom.pixel_data_handlers.util import apply_modality_lut, apply_voi_lut, apply_windowing\n",
    "from scipy.signal import wiener"
   ]
  },
  {
   "cell_type": "code",
   "execution_count": 5,
   "id": "0a59e53a",
   "metadata": {},
   "outputs": [],
   "source": [
    "def show_images(img1, img2, title1='', title2='', cmap='gray'):\n",
    "    plt.figure(figsize=(12,6))\n",
    "    plt.subplot(121)\n",
    "    plt.title(title1)\n",
    "    plt.imshow(img1, cmap=cmap)\n",
    "\n",
    "\n",
    "    plt.subplot(122)\n",
    "    plt.title(title2)\n",
    "    plt.imshow(img2, cmap=cmap)"
   ]
  },
  {
   "cell_type": "code",
   "execution_count": 7,
   "id": "43662f1c",
   "metadata": {},
   "outputs": [],
   "source": [
    "def load_image_pydicom(img_path, voi_lut=False, modality_lut=False, windowing=False, return_ds=False):\n",
    "    dataset = pydicom.dcmread(img_path)\n",
    "    img = dataset.pixel_array\n",
    "    if voi_lut:\n",
    "        img = apply_voi_lut(img, dataset)\n",
    "    if modality_lut:\n",
    "        img = apply_modality_lut(img, dataset)\n",
    "    if windowing:\n",
    "        img = apply_windowing(img, dataset)\n",
    "    if dataset.PhotometricInterpretation == \"MONOCHROME1\":\n",
    "        img = np.amax(img) - img\n",
    "    if return_ds:\n",
    "        return img, dataset\n",
    "    else:\n",
    "        return img"
   ]
  },
  {
   "cell_type": "code",
   "execution_count": 10,
   "id": "a8084a55",
   "metadata": {},
   "outputs": [],
   "source": [
    "def dicom_image_segmentation(img, show_thres=False):\n",
    "    \n",
    "    _, img_thres = cv2.threshold(img, 0.1, 255, cv2.THRESH_BINARY)\n",
    "    \n",
    "    \n",
    "#     kernel = cv2.getStructuringElement(cv2.MORPH_RECT, (13, 13))\n",
    "#     opening = cv2.morphologyEx(img_thres, cv2.MORPH_OPEN, kernel)\n",
    "#     closing = cv2.morphologyEx(opening, cv2.MORPH_CLOSE, kernel)\n",
    "#     closing = closing.astype(np.uint8)\n",
    "    \n",
    "    kernel_erosion = cv2.getStructuringElement(cv2.MORPH_RECT, (11, 11))\n",
    "    erosion = cv2.erode(img_thres, kernel_erosion, iterations=4)\n",
    "    \n",
    "    kernel_dilate = cv2.getStructuringElement(cv2.MORPH_ELLIPSE, (50, 50))\n",
    "    dilation = cv2.dilate(erosion, kernel_dilate)\n",
    "    \n",
    "    dilation = dilation.astype(np.uint8)\n",
    "    \n",
    "    if show_thres:\n",
    "        plt.figure(figsize=(12, 6))\n",
    "        plt.imshow(dilation, cmap='gray')\n",
    "    \n",
    "    img_out = cv2.bitwise_and(img, img, mask=dilation)\n",
    "    \n",
    "    return img_out"
   ]
  },
  {
   "cell_type": "code",
   "execution_count": 12,
   "id": "a09ea8d1",
   "metadata": {},
   "outputs": [],
   "source": [
    "def clahe_filter(img, limit=6.0, gridSize=(14,14)):\n",
    "    \n",
    "    clahe = cv2.createCLAHE(clipLimit=limit, tileGridSize=gridSize)\n",
    "    \n",
    "    return clahe.apply(img)\n",
    "    "
   ]
  },
  {
   "cell_type": "code",
   "execution_count": 9,
   "id": "9ebd272d",
   "metadata": {},
   "outputs": [],
   "source": [
    "image_path = \"/home/dimatkchnk/praca_dyplomowa/samples-from-databases/dicom/1.dicom\"\n",
    "image_path2 = \"/home/dimatkchnk/praca_dyplomowa/samples-from-databases/dicom/2.dicom\"\n",
    "image_path3 = \"/home/dimatkchnk/praca_dyplomowa/samples-from-databases/dicom/3.dcm\"\n",
    "image_path4a = \"/home/dimatkchnk/praca_dyplomowa/samples-from-databases/dicom/4a.dicom\"\n",
    "image_path4b = \"/home/dimatkchnk/praca_dyplomowa/samples-from-databases/dicom/4b.dicom\"\n",
    "image_path5a = \"/home/dimatkchnk/praca_dyplomowa/samples-from-databases/dicom/5a.dcm\"\n",
    "image_path5b = \"/home/dimatkchnk/praca_dyplomowa/samples-from-databases/dicom/5b.dcm\"\n",
    "image_path6 = \"/home/dimatkchnk/praca_dyplomowa/samples-from-databases/dicom/6.dcm\""
   ]
  },
  {
   "cell_type": "code",
   "execution_count": 15,
   "id": "4be73357",
   "metadata": {},
   "outputs": [],
   "source": [
    "img = load_image_pydicom(image_path6, voi_lut=True)"
   ]
  },
  {
   "cell_type": "code",
   "execution_count": null,
   "id": "7863cc0c",
   "metadata": {},
   "outputs": [],
   "source": []
  },
  {
   "cell_type": "code",
   "execution_count": null,
   "id": "8b333432",
   "metadata": {},
   "outputs": [],
   "source": []
  },
  {
   "cell_type": "code",
   "execution_count": null,
   "id": "b97a2433",
   "metadata": {},
   "outputs": [],
   "source": []
  },
  {
   "cell_type": "code",
   "execution_count": null,
   "id": "b4028027",
   "metadata": {},
   "outputs": [],
   "source": []
  }
 ],
 "metadata": {
  "kernelspec": {
   "display_name": "Python 3 (ipykernel)",
   "language": "python",
   "name": "python3"
  },
  "language_info": {
   "codemirror_mode": {
    "name": "ipython",
    "version": 3
   },
   "file_extension": ".py",
   "mimetype": "text/x-python",
   "name": "python",
   "nbconvert_exporter": "python",
   "pygments_lexer": "ipython3",
   "version": "3.11.2"
  }
 },
 "nbformat": 4,
 "nbformat_minor": 5
}
